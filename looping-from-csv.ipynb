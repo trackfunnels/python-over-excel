{
 "cells": [
  {
   "cell_type": "code",
   "execution_count": 1,
   "metadata": {},
   "outputs": [],
   "source": [
    "import pandas as pd"
   ]
  },
  {
   "cell_type": "code",
   "execution_count": 2,
   "metadata": {},
   "outputs": [],
   "source": [
    "import numpy as np"
   ]
  },
  {
   "cell_type": "code",
   "execution_count": 17,
   "metadata": {},
   "outputs": [],
   "source": [
    "df = pd.read_excel('naked-thriving.xlsx', index_col=None, header=1)"
   ]
  },
  {
   "cell_type": "code",
   "execution_count": 20,
   "metadata": {},
   "outputs": [],
   "source": [
    "df = df['Page']"
   ]
  },
  {
   "cell_type": "code",
   "execution_count": 23,
   "metadata": {},
   "outputs": [],
   "source": [
    "df = df.to_frame()"
   ]
  },
  {
   "cell_type": "code",
   "execution_count": 24,
   "metadata": {},
   "outputs": [
    {
     "name": "stdout",
     "output_type": "stream",
     "text": [
      "                                                  Page\n",
      "0             /special-offer-renew-ac-nr-flash-tst/?T=\n",
      "1    /special-offer-free-travel-size-rejuvenate-ac-...\n",
      "2                  /special-offer-revive-ac-nr/?T=&T)=\n",
      "3                       /special-offer-renew-ac-nr/?T=\n",
      "4    /special-offer-free-travel-size-general-ac-nr/?T=\n",
      "..                                                 ...\n",
      "326  /special-offer-renew-ac-nr-flash-rt-vrnt-2/?T=...\n",
      "327  /special-offer-renew-ac-nr-flash-tst/?T:OVERRI...\n",
      "328             /special-offer-renew-ac-nr-healthy/?T=\n",
      "329  /special-offer-renew-listacle-ac-nr/?T=&T+5+Re...\n",
      "330  /special-offer-revive-ac-nr/?T=&external_brows...\n",
      "\n",
      "[331 rows x 1 columns]\n"
     ]
    }
   ],
   "source": [
    "print(df)"
   ]
  },
  {
   "cell_type": "code",
   "execution_count": 74,
   "metadata": {},
   "outputs": [
    {
     "data": {
      "text/html": [
       "<div>\n",
       "<style scoped>\n",
       "    .dataframe tbody tr th:only-of-type {\n",
       "        vertical-align: middle;\n",
       "    }\n",
       "\n",
       "    .dataframe tbody tr th {\n",
       "        vertical-align: top;\n",
       "    }\n",
       "\n",
       "    .dataframe thead th {\n",
       "        text-align: right;\n",
       "    }\n",
       "</style>\n",
       "<table border=\"1\" class=\"dataframe\">\n",
       "  <thead>\n",
       "    <tr style=\"text-align: right;\">\n",
       "      <th></th>\n",
       "      <th>Page</th>\n",
       "    </tr>\n",
       "  </thead>\n",
       "  <tbody>\n",
       "    <tr>\n",
       "      <th>0</th>\n",
       "      <td>/special-offer-renew-ac-nr-flash-tst/?T=</td>\n",
       "    </tr>\n",
       "    <tr>\n",
       "      <th>1</th>\n",
       "      <td>/special-offer-free-travel-size-rejuvenate-ac-...</td>\n",
       "    </tr>\n",
       "    <tr>\n",
       "      <th>2</th>\n",
       "      <td>/special-offer-revive-ac-nr/?T=&amp;T)=</td>\n",
       "    </tr>\n",
       "    <tr>\n",
       "      <th>3</th>\n",
       "      <td>/special-offer-renew-ac-nr/?T=</td>\n",
       "    </tr>\n",
       "    <tr>\n",
       "      <th>4</th>\n",
       "      <td>/special-offer-free-travel-size-general-ac-nr/?T=</td>\n",
       "    </tr>\n",
       "  </tbody>\n",
       "</table>\n",
       "</div>"
      ],
      "text/plain": [
       "                                                Page\n",
       "0           /special-offer-renew-ac-nr-flash-tst/?T=\n",
       "1  /special-offer-free-travel-size-rejuvenate-ac-...\n",
       "2                /special-offer-revive-ac-nr/?T=&T)=\n",
       "3                     /special-offer-renew-ac-nr/?T=\n",
       "4  /special-offer-free-travel-size-general-ac-nr/?T="
      ]
     },
     "execution_count": 74,
     "metadata": {},
     "output_type": "execute_result"
    }
   ],
   "source": [
    "df.head()"
   ]
  },
  {
   "cell_type": "code",
   "execution_count": 75,
   "metadata": {},
   "outputs": [],
   "source": [
    "params_only = []\n",
    "for i in df.index:\n",
    "    row = df['Page'][i]\n",
    "    params = row[row.find('?')+1:]\n",
    "    params_only.append({params})"
   ]
  },
  {
   "cell_type": "code",
   "execution_count": 77,
   "metadata": {},
   "outputs": [],
   "source": [
    "params_only = pd.DataFrame(params_only)\n",
    "# adding column name to the respective columns\n",
    "params_only.columns =['Params']"
   ]
  },
  {
   "cell_type": "code",
   "execution_count": 78,
   "metadata": {},
   "outputs": [
    {
     "data": {
      "text/html": [
       "<div>\n",
       "<style scoped>\n",
       "    .dataframe tbody tr th:only-of-type {\n",
       "        vertical-align: middle;\n",
       "    }\n",
       "\n",
       "    .dataframe tbody tr th {\n",
       "        vertical-align: top;\n",
       "    }\n",
       "\n",
       "    .dataframe thead th {\n",
       "        text-align: right;\n",
       "    }\n",
       "</style>\n",
       "<table border=\"1\" class=\"dataframe\">\n",
       "  <thead>\n",
       "    <tr style=\"text-align: right;\">\n",
       "      <th></th>\n",
       "      <th>Params</th>\n",
       "    </tr>\n",
       "  </thead>\n",
       "  <tbody>\n",
       "    <tr>\n",
       "      <th>0</th>\n",
       "      <td>T=</td>\n",
       "    </tr>\n",
       "    <tr>\n",
       "      <th>1</th>\n",
       "      <td>T=&amp;T)=</td>\n",
       "    </tr>\n",
       "    <tr>\n",
       "      <th>2</th>\n",
       "      <td>T=&amp;T)=</td>\n",
       "    </tr>\n",
       "    <tr>\n",
       "      <th>3</th>\n",
       "      <td>T=</td>\n",
       "    </tr>\n",
       "    <tr>\n",
       "      <th>4</th>\n",
       "      <td>T=</td>\n",
       "    </tr>\n",
       "  </tbody>\n",
       "</table>\n",
       "</div>"
      ],
      "text/plain": [
       "   Params\n",
       "0      T=\n",
       "1  T=&T)=\n",
       "2  T=&T)=\n",
       "3      T=\n",
       "4      T="
      ]
     },
     "execution_count": 78,
     "metadata": {},
     "output_type": "execute_result"
    }
   ],
   "source": [
    "params_only.head()"
   ]
  },
  {
   "cell_type": "code",
   "execution_count": 79,
   "metadata": {},
   "outputs": [
    {
     "data": {
      "text/plain": [
       "331"
      ]
     },
     "execution_count": 79,
     "metadata": {},
     "output_type": "execute_result"
    }
   ],
   "source": [
    "params_only.shape[0]"
   ]
  },
  {
   "cell_type": "code",
   "execution_count": 80,
   "metadata": {},
   "outputs": [
    {
     "data": {
      "text/plain": [
       "199"
      ]
     },
     "execution_count": 80,
     "metadata": {},
     "output_type": "execute_result"
    }
   ],
   "source": [
    "params_only = params_only.drop_duplicates()\n",
    "params_only.shape[0]\n"
   ]
  },
  {
   "cell_type": "code",
   "execution_count": 82,
   "metadata": {},
   "outputs": [
    {
     "data": {
      "text/html": [
       "<div>\n",
       "<style scoped>\n",
       "    .dataframe tbody tr th:only-of-type {\n",
       "        vertical-align: middle;\n",
       "    }\n",
       "\n",
       "    .dataframe tbody tr th {\n",
       "        vertical-align: top;\n",
       "    }\n",
       "\n",
       "    .dataframe thead th {\n",
       "        text-align: right;\n",
       "    }\n",
       "</style>\n",
       "<table border=\"1\" class=\"dataframe\">\n",
       "  <thead>\n",
       "    <tr style=\"text-align: right;\">\n",
       "      <th></th>\n",
       "      <th>Params</th>\n",
       "    </tr>\n",
       "  </thead>\n",
       "  <tbody>\n",
       "    <tr>\n",
       "      <th>0</th>\n",
       "      <td>T=</td>\n",
       "    </tr>\n",
       "    <tr>\n",
       "      <th>1</th>\n",
       "      <td>T=&amp;T)=</td>\n",
       "    </tr>\n",
       "    <tr>\n",
       "      <th>5</th>\n",
       "      <td>T=&amp;T+Listicle+Headline+variations+|+Pre-Sell+P...</td>\n",
       "    </tr>\n",
       "    <tr>\n",
       "      <th>6</th>\n",
       "      <td>quantity=1&amp;variation_id=375436</td>\n",
       "    </tr>\n",
       "    <tr>\n",
       "      <th>11</th>\n",
       "      <td>+benefits_dry+skin_glow_prospecting_no+creator...</td>\n",
       "    </tr>\n",
       "    <tr>\n",
       "      <th>12</th>\n",
       "      <td>quantity=1&amp;variation_id=291277</td>\n",
       "    </tr>\n",
       "    <tr>\n",
       "      <th>13</th>\n",
       "      <td>Affid=trvl&amp;T=</td>\n",
       "    </tr>\n",
       "    <tr>\n",
       "      <th>14</th>\n",
       "      <td>T:OVERRIDE=</td>\n",
       "    </tr>\n",
       "    <tr>\n",
       "      <th>16</th>\n",
       "      <td>quantity=1&amp;variation_id=262562</td>\n",
       "    </tr>\n",
       "    <tr>\n",
       "      <th>18</th>\n",
       "      <td>rating=1</td>\n",
       "    </tr>\n",
       "  </tbody>\n",
       "</table>\n",
       "</div>"
      ],
      "text/plain": [
       "                                               Params\n",
       "0                                                  T=\n",
       "1                                              T=&T)=\n",
       "5   T=&T+Listicle+Headline+variations+|+Pre-Sell+P...\n",
       "6                      quantity=1&variation_id=375436\n",
       "11  +benefits_dry+skin_glow_prospecting_no+creator...\n",
       "12                     quantity=1&variation_id=291277\n",
       "13                                      Affid=trvl&T=\n",
       "14                                        T:OVERRIDE=\n",
       "16                     quantity=1&variation_id=262562\n",
       "18                                           rating=1"
      ]
     },
     "execution_count": 82,
     "metadata": {},
     "output_type": "execute_result"
    }
   ],
   "source": [
    "# print first 10 rows\n",
    "params_only.head(10)"
   ]
  },
  {
   "cell_type": "code",
   "execution_count": 54,
   "metadata": {},
   "outputs": [],
   "source": [
    "all_sep_params = []\n",
    "for i in params_only.index:\n",
    "    row = params_only['Params'][i]\n",
    "    sep_params = row.split(\"&\")\n",
    "    length = len(sep_params)\n",
    "    for x,n in enumerate(sep_params):\n",
    "        all_sep_params.append({sep_params[x]})\n"
   ]
  },
  {
   "cell_type": "code",
   "execution_count": 56,
   "metadata": {},
   "outputs": [],
   "source": [
    "all_sep_params = pd.DataFrame(all_sep_params)"
   ]
  },
  {
   "cell_type": "code",
   "execution_count": 58,
   "metadata": {},
   "outputs": [
    {
     "data": {
      "text/plain": [
       "366"
      ]
     },
     "execution_count": 58,
     "metadata": {},
     "output_type": "execute_result"
    }
   ],
   "source": [
    "all_sep_params.shape[0]"
   ]
  },
  {
   "cell_type": "code",
   "execution_count": 83,
   "metadata": {},
   "outputs": [
    {
     "data": {
      "text/plain": [
       "217"
      ]
     },
     "execution_count": 83,
     "metadata": {},
     "output_type": "execute_result"
    }
   ],
   "source": [
    "all_sep_params = all_sep_params.drop_duplicates()\n",
    "all_sep_params.shape[0]"
   ]
  },
  {
   "cell_type": "code",
   "execution_count": 94,
   "metadata": {},
   "outputs": [
    {
     "data": {
      "text/html": [
       "<div>\n",
       "<style scoped>\n",
       "    .dataframe tbody tr th:only-of-type {\n",
       "        vertical-align: middle;\n",
       "    }\n",
       "\n",
       "    .dataframe tbody tr th {\n",
       "        vertical-align: top;\n",
       "    }\n",
       "\n",
       "    .dataframe thead th {\n",
       "        text-align: right;\n",
       "    }\n",
       "</style>\n",
       "<table border=\"1\" class=\"dataframe\">\n",
       "  <thead>\n",
       "    <tr style=\"text-align: right;\">\n",
       "      <th></th>\n",
       "      <th>Key Values</th>\n",
       "    </tr>\n",
       "  </thead>\n",
       "  <tbody>\n",
       "    <tr>\n",
       "      <th>0</th>\n",
       "      <td>T=</td>\n",
       "    </tr>\n",
       "    <tr>\n",
       "      <th>2</th>\n",
       "      <td>T)=</td>\n",
       "    </tr>\n",
       "    <tr>\n",
       "      <th>4</th>\n",
       "      <td>T+Listicle+Headline+variations+|+Pre-Sell+Page=</td>\n",
       "    </tr>\n",
       "    <tr>\n",
       "      <th>5</th>\n",
       "      <td>quantity=1</td>\n",
       "    </tr>\n",
       "    <tr>\n",
       "      <th>6</th>\n",
       "      <td>variation_id=375436</td>\n",
       "    </tr>\n",
       "    <tr>\n",
       "      <th>7</th>\n",
       "      <td>+benefits_dry+skin_glow_prospecting_no+creator...</td>\n",
       "    </tr>\n",
       "    <tr>\n",
       "      <th>8</th>\n",
       "      <td>+benefits_HEADLINE+2_COPY+2_N=</td>\n",
       "    </tr>\n",
       "    <tr>\n",
       "      <th>12</th>\n",
       "      <td>variation_id=291277</td>\n",
       "    </tr>\n",
       "    <tr>\n",
       "      <th>13</th>\n",
       "      <td>Affid=trvl</td>\n",
       "    </tr>\n",
       "    <tr>\n",
       "      <th>15</th>\n",
       "      <td>T:OVERRIDE=</td>\n",
       "    </tr>\n",
       "  </tbody>\n",
       "</table>\n",
       "</div>"
      ],
      "text/plain": [
       "                                           Key Values\n",
       "0                                                  T=\n",
       "2                                                 T)=\n",
       "4     T+Listicle+Headline+variations+|+Pre-Sell+Page=\n",
       "5                                          quantity=1\n",
       "6                                 variation_id=375436\n",
       "7   +benefits_dry+skin_glow_prospecting_no+creator...\n",
       "8                      +benefits_HEADLINE+2_COPY+2_N=\n",
       "12                                variation_id=291277\n",
       "13                                         Affid=trvl\n",
       "15                                        T:OVERRIDE="
      ]
     },
     "execution_count": 94,
     "metadata": {},
     "output_type": "execute_result"
    }
   ],
   "source": [
    "all_sep_params.columns =['Key Values']\n",
    "all_sep_params.head(10)"
   ]
  },
  {
   "cell_type": "code",
   "execution_count": 95,
   "metadata": {},
   "outputs": [],
   "source": [
    "#each row contains key value parameters\n",
    "keys = []\n",
    "for i in all_sep_params.index:\n",
    "    row = all_sep_params['Key Values'][i]\n",
    "    key_val = row.split(\"=\")\n",
    "    length = len(key_val)\n",
    "    for x,n in enumerate(key_val):\n",
    "        keys.append({key_val[0]})\n"
   ]
  },
  {
   "cell_type": "code",
   "execution_count": 96,
   "metadata": {},
   "outputs": [],
   "source": [
    "keys = pd.DataFrame(keys)"
   ]
  },
  {
   "cell_type": "code",
   "execution_count": 98,
   "metadata": {},
   "outputs": [
    {
     "data": {
      "text/html": [
       "<div>\n",
       "<style scoped>\n",
       "    .dataframe tbody tr th:only-of-type {\n",
       "        vertical-align: middle;\n",
       "    }\n",
       "\n",
       "    .dataframe tbody tr th {\n",
       "        vertical-align: top;\n",
       "    }\n",
       "\n",
       "    .dataframe thead th {\n",
       "        text-align: right;\n",
       "    }\n",
       "</style>\n",
       "<table border=\"1\" class=\"dataframe\">\n",
       "  <thead>\n",
       "    <tr style=\"text-align: right;\">\n",
       "      <th></th>\n",
       "      <th>Keys</th>\n",
       "    </tr>\n",
       "  </thead>\n",
       "  <tbody>\n",
       "    <tr>\n",
       "      <th>0</th>\n",
       "      <td>T</td>\n",
       "    </tr>\n",
       "    <tr>\n",
       "      <th>1</th>\n",
       "      <td>T</td>\n",
       "    </tr>\n",
       "    <tr>\n",
       "      <th>2</th>\n",
       "      <td>T)</td>\n",
       "    </tr>\n",
       "    <tr>\n",
       "      <th>3</th>\n",
       "      <td>T)</td>\n",
       "    </tr>\n",
       "    <tr>\n",
       "      <th>4</th>\n",
       "      <td>T+Listicle+Headline+variations+|+Pre-Sell+Page</td>\n",
       "    </tr>\n",
       "    <tr>\n",
       "      <th>5</th>\n",
       "      <td>T+Listicle+Headline+variations+|+Pre-Sell+Page</td>\n",
       "    </tr>\n",
       "    <tr>\n",
       "      <th>6</th>\n",
       "      <td>quantity</td>\n",
       "    </tr>\n",
       "    <tr>\n",
       "      <th>7</th>\n",
       "      <td>quantity</td>\n",
       "    </tr>\n",
       "    <tr>\n",
       "      <th>8</th>\n",
       "      <td>variation_id</td>\n",
       "    </tr>\n",
       "    <tr>\n",
       "      <th>9</th>\n",
       "      <td>variation_id</td>\n",
       "    </tr>\n",
       "  </tbody>\n",
       "</table>\n",
       "</div>"
      ],
      "text/plain": [
       "                                             Keys\n",
       "0                                               T\n",
       "1                                               T\n",
       "2                                              T)\n",
       "3                                              T)\n",
       "4  T+Listicle+Headline+variations+|+Pre-Sell+Page\n",
       "5  T+Listicle+Headline+variations+|+Pre-Sell+Page\n",
       "6                                        quantity\n",
       "7                                        quantity\n",
       "8                                    variation_id\n",
       "9                                    variation_id"
      ]
     },
     "execution_count": 98,
     "metadata": {},
     "output_type": "execute_result"
    }
   ],
   "source": [
    "keys.columns =['Keys']\n",
    "keys.head(10)"
   ]
  },
  {
   "cell_type": "code",
   "execution_count": 99,
   "metadata": {},
   "outputs": [
    {
     "data": {
      "text/plain": [
       "80"
      ]
     },
     "execution_count": 99,
     "metadata": {},
     "output_type": "execute_result"
    }
   ],
   "source": [
    "keys = keys.drop_duplicates()\n",
    "keys.shape[0]"
   ]
  },
  {
   "cell_type": "code",
   "execution_count": 100,
   "metadata": {},
   "outputs": [
    {
     "data": {
      "text/html": [
       "<div>\n",
       "<style scoped>\n",
       "    .dataframe tbody tr th:only-of-type {\n",
       "        vertical-align: middle;\n",
       "    }\n",
       "\n",
       "    .dataframe tbody tr th {\n",
       "        vertical-align: top;\n",
       "    }\n",
       "\n",
       "    .dataframe thead th {\n",
       "        text-align: right;\n",
       "    }\n",
       "</style>\n",
       "<table border=\"1\" class=\"dataframe\">\n",
       "  <thead>\n",
       "    <tr style=\"text-align: right;\">\n",
       "      <th></th>\n",
       "      <th>Keys</th>\n",
       "    </tr>\n",
       "  </thead>\n",
       "  <tbody>\n",
       "    <tr>\n",
       "      <th>0</th>\n",
       "      <td>T</td>\n",
       "    </tr>\n",
       "    <tr>\n",
       "      <th>2</th>\n",
       "      <td>T)</td>\n",
       "    </tr>\n",
       "    <tr>\n",
       "      <th>4</th>\n",
       "      <td>T+Listicle+Headline+variations+|+Pre-Sell+Page</td>\n",
       "    </tr>\n",
       "    <tr>\n",
       "      <th>6</th>\n",
       "      <td>quantity</td>\n",
       "    </tr>\n",
       "    <tr>\n",
       "      <th>8</th>\n",
       "      <td>variation_id</td>\n",
       "    </tr>\n",
       "  </tbody>\n",
       "</table>\n",
       "</div>"
      ],
      "text/plain": [
       "                                             Keys\n",
       "0                                               T\n",
       "2                                              T)\n",
       "4  T+Listicle+Headline+variations+|+Pre-Sell+Page\n",
       "6                                        quantity\n",
       "8                                    variation_id"
      ]
     },
     "execution_count": 100,
     "metadata": {},
     "output_type": "execute_result"
    }
   ],
   "source": [
    "keys.head()"
   ]
  },
  {
   "cell_type": "code",
   "execution_count": 105,
   "metadata": {},
   "outputs": [],
   "source": [
    "keys_as_list = keys.astype(str).values.flatten().tolist()"
   ]
  },
  {
   "cell_type": "code",
   "execution_count": 102,
   "metadata": {},
   "outputs": [],
   "source": [
    "string = \"c,__FB_PRIVATE_TRACKING__,_kx,_thumbnail_id,_wc_user_reg,_wpnonce,_x_tr_hl,_x_tr_pto,_x_tr_sl,_x_tr_tl,/,action,add-to-cart,Aff,AffID,attribute_pa_size,back,cancel_order,change_payment_method,change_subscription_to,clickid,convert_to_sub_100503,convert_to_sub_10393,convert_to_sub_137007,convert_to_sub_5076,convert_to_sub_5082,convert_to_sub_5087,convert_to_sub_5466,convert_to_sub_73701,convert_to_sub_73731,convert_to_sub_94267,convert_to_sub_94410,convert_to_sub_95019,convert_to_sub_95075,e,FB-Shop-Now,fbclid,fueid,gtm_debug,id,key,lista,mc_cid,mc_eid,moderation-hash,msclkid,order,order_id,password-reset,pay_for_order,PayerID,preview,preview_id,preview_nonce,qid,redirect,removed_item,reset-link-sent,SaS,sfn_data,sfn_trk,show-reset-form,skip_next_shipping,subscription_id,token,u,unapproved,utm_bot_source,v,wbraid,wck_rebuild_cart,wcpr_thank_you_message,wmc-currency,zrf_ticket,zx,cmpid,sub1,sub2,sub3,sub4,sub5,sub6,sub7,sub8,rtkcid,T,T),T+Listicle+Headline+variations+|+Pre-Sell+Page,quantity,variation_id,+benefits_dry+skin_glow_prospecting_no+creator_promo_isabel.reinstein-plummer_camille.lucas_canew_47+glow+image+ads+-+features+,+benefits_HEADLINE+2_COPY+2_N,Affid,T:OVERRIDE,rating,+lighting+shoot)_Headline+141_Copy+141_N,+Lighting+Shoot),verified,T Listicle Headline variations | Pre-Sell Page,external_browser_redirect,coupon,+wrinkles_rejuvenate+restorative+face+oil_prospecting_no+creator_no+promo_usman.anzal_jason.todd_caexist_119x+winning+ad+remake_HEADLINE+8_COPY+8_N,convert_to_sub_213314,exp_nt33?nt,speero_qa,T:5AM+RESTART,remove_coupon,image,post_type,p,lighting shoot)_Headline 141_Copy 141_N, Lighting Shoot),T:HP,exp_nt33,wcs_redirect,wcs_redirect_id,benefits_dry skin_glow_prospecting_no creator_promo_isabel.reinstein-plummer_camille.lucas_canew_47 glow image ads - features , benefits_HEADLINE 2_COPY 2_N,wcpr_token,convert_to_sub_81380,t+2_anti-aging_rejuvenate_prospecting_no+creator_no+promo_jason.todd,usman.anzal_jason.todd_canew_123x+problem/solution_HEADLINE+1_COPY+1_N,s,status,orderToken,aff,variation,_kx,T Listicle - PR Mentions | Pre-Sell Page,utm_mediu,fs,convert_to_sub_95077,convert_to_sub_137797,convert_to_sub_360825,crsi,cicada_org_src,cicada_org_mdm,ki,vc_editable,vc_post_id,_vcnonce,TRAVEL,externalId,T+5+Reasons+Listicle+|+Pre-Sell+Page,remove_item,ul,flow,useraction,rm,mfid,rcache,targetService4174,lite,fromLite,ulClientKey,ulClientRedirect,country.x,locale.x,NZ) (Y7diTv),MOM22,ship_now_adjust_date,wcpr_image,convert_to_sub_95078,mibextid,liveqa,t+2-week+challenge_rejuvenate+restorative+face+oil_prospecting_no+creator_no+promo_jason.todd,usman.anzal_jason.todd_caexist_138x+2+week+challenge+w/+face+oil_HEADLINE+1_COPY+1_N\""
   ]
  },
  {
   "cell_type": "code",
   "execution_count": 103,
   "metadata": {},
   "outputs": [
    {
     "name": "stdout",
     "output_type": "stream",
     "text": [
      "c,__FB_PRIVATE_TRACKING__,_kx,_thumbnail_id,_wc_user_reg,_wpnonce,_x_tr_hl,_x_tr_pto,_x_tr_sl,_x_tr_tl,/,action,add-to-cart,Aff,AffID,attribute_pa_size,back,cancel_order,change_payment_method,change_subscription_to,clickid,convert_to_sub_100503,convert_to_sub_10393,convert_to_sub_137007,convert_to_sub_5076,convert_to_sub_5082,convert_to_sub_5087,convert_to_sub_5466,convert_to_sub_73701,convert_to_sub_73731,convert_to_sub_94267,convert_to_sub_94410,convert_to_sub_95019,convert_to_sub_95075,e,FB-Shop-Now,fbclid,fueid,gtm_debug,id,key,lista,mc_cid,mc_eid,moderation-hash,msclkid,order,order_id,password-reset,pay_for_order,PayerID,preview,preview_id,preview_nonce,qid,redirect,removed_item,reset-link-sent,SaS,sfn_data,sfn_trk,show-reset-form,skip_next_shipping,subscription_id,token,u,unapproved,utm_bot_source,v,wbraid,wck_rebuild_cart,wcpr_thank_you_message,wmc-currency,zrf_ticket,zx,cmpid,sub1,sub2,sub3,sub4,sub5,sub6,sub7,sub8,rtkcid,T,T),T+Listicle+Headline+variations+|+Pre-Sell+Page,quantity,variation_id,+benefits_dry+skin_glow_prospecting_no+creator_promo_isabel.reinstein-plummer_camille.lucas_canew_47+glow+image+ads+-+features+,+benefits_HEADLINE+2_COPY+2_N,Affid,T:OVERRIDE,rating,+lighting+shoot)_Headline+141_Copy+141_N,+Lighting+Shoot),verified,T Listicle Headline variations | Pre-Sell Page,external_browser_redirect,coupon,+wrinkles_rejuvenate+restorative+face+oil_prospecting_no+creator_no+promo_usman.anzal_jason.todd_caexist_119x+winning+ad+remake_HEADLINE+8_COPY+8_N,convert_to_sub_213314,exp_nt33?nt,speero_qa,T:5AM+RESTART,remove_coupon,image,post_type,p,lighting shoot)_Headline 141_Copy 141_N, Lighting Shoot),T:HP,exp_nt33,wcs_redirect,wcs_redirect_id,benefits_dry skin_glow_prospecting_no creator_promo_isabel.reinstein-plummer_camille.lucas_canew_47 glow image ads - features , benefits_HEADLINE 2_COPY 2_N,wcpr_token,convert_to_sub_81380,t+2_anti-aging_rejuvenate_prospecting_no+creator_no+promo_jason.todd,usman.anzal_jason.todd_canew_123x+problem/solution_HEADLINE+1_COPY+1_N,s,status,orderToken,aff,variation,_kx,T Listicle - PR Mentions | Pre-Sell Page,utm_mediu,fs,convert_to_sub_95077,convert_to_sub_137797,convert_to_sub_360825,crsi,cicada_org_src,cicada_org_mdm,ki,vc_editable,vc_post_id,_vcnonce,TRAVEL,externalId,T+5+Reasons+Listicle+|+Pre-Sell+Page,remove_item,ul,flow,useraction,rm,mfid,rcache,targetService4174,lite,fromLite,ulClientKey,ulClientRedirect,country.x,locale.x,NZ) (Y7diTv),MOM22,ship_now_adjust_date,wcpr_image,convert_to_sub_95078,mibextid,liveqa,t+2-week+challenge_rejuvenate+restorative+face+oil_prospecting_no+creator_no+promo_jason.todd,usman.anzal_jason.todd_caexist_138x+2+week+challenge+w/+face+oil_HEADLINE+1_COPY+1_N\n"
     ]
    }
   ],
   "source": [
    "print(string)"
   ]
  },
  {
   "cell_type": "code",
   "execution_count": 104,
   "metadata": {},
   "outputs": [
    {
     "data": {
      "text/plain": [
       "2688"
      ]
     },
     "execution_count": 104,
     "metadata": {},
     "output_type": "execute_result"
    }
   ],
   "source": [
    "len(string)\n"
   ]
  },
  {
   "cell_type": "code",
   "execution_count": null,
   "metadata": {},
   "outputs": [],
   "source": []
  }
 ],
 "metadata": {
  "kernelspec": {
   "display_name": "Python 3",
   "language": "python",
   "name": "python3"
  },
  "language_info": {
   "codemirror_mode": {
    "name": "ipython",
    "version": 3
   },
   "file_extension": ".py",
   "mimetype": "text/x-python",
   "name": "python",
   "nbconvert_exporter": "python",
   "pygments_lexer": "ipython3",
   "version": "3.8.8"
  }
 },
 "nbformat": 4,
 "nbformat_minor": 2
}
